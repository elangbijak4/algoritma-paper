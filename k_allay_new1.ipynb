{
  "nbformat": 4,
  "nbformat_minor": 0,
  "metadata": {
    "colab": {
      "provenance": [],
      "authorship_tag": "ABX9TyP16HI2ySKfTzayPp0RugJr",
      "include_colab_link": true
    },
    "kernelspec": {
      "name": "python3",
      "display_name": "Python 3"
    },
    "language_info": {
      "name": "python"
    }
  },
  "cells": [
    {
      "cell_type": "markdown",
      "metadata": {
        "id": "view-in-github",
        "colab_type": "text"
      },
      "source": [
        "<a href=\"https://colab.research.google.com/github/elangbijak4/algoritma-dinda-new/blob/main/k_allay_new1.ipynb\" target=\"_parent\"><img src=\"https://colab.research.google.com/assets/colab-badge.svg\" alt=\"Open In Colab\"/></a>"
      ]
    },
    {
      "cell_type": "code",
      "execution_count": 1,
      "metadata": {
        "colab": {
          "base_uri": "https://localhost:8080/"
        },
        "id": "KX-suEAbG-y9",
        "outputId": "7063020d-6c08-4193-ad21-3ef30f2cd4c9"
      },
      "outputs": [
        {
          "output_type": "stream",
          "name": "stdout",
          "text": [
            "Hasil Clustering Iteratif:\n",
            "Cluster 4: [4]\n",
            "Cluster 2: [2]\n"
          ]
        }
      ],
      "source": [
        "import numpy as np\n",
        "import random\n",
        "\n",
        "# Fungsi untuk menghitung nilai benefit antara dua negara\n",
        "def benefit_function(policy_1, policy_2):\n",
        "    # Contoh fungsi: kombinasi jarak dan kekuatan\n",
        "    distance = np.linalg.norm(policy_1['position'] - policy_2['position'])\n",
        "    power_diff = abs(policy_1['power'] - policy_2['power'])\n",
        "    return -distance + 0.5 * power_diff\n",
        "\n",
        "# Algoritma Iteratif\n",
        "def iterative_clustering(countries, K, max_iters=100, threshold=0.5):\n",
        "    # Inisialisasi negara utama secara acak\n",
        "    main_countries = random.sample(countries, K)\n",
        "    clusters = {m['id']: [m] for m in main_countries}\n",
        "\n",
        "    for iteration in range(max_iters):\n",
        "        new_clusters = {m['id']: [m] for m in main_countries}\n",
        "\n",
        "        for country in countries:\n",
        "            if country in main_countries:\n",
        "                continue\n",
        "\n",
        "            # Evaluasi terhadap setiap negara utama\n",
        "            best_main = None\n",
        "            best_benefit = -np.inf\n",
        "\n",
        "            for main in main_countries:\n",
        "                benefit = benefit_function(country, main)\n",
        "                if benefit > threshold and benefit > best_benefit:\n",
        "                    best_main = main\n",
        "                    best_benefit = benefit\n",
        "\n",
        "            # Jika ditemukan sekutu, tambahkan ke cluster\n",
        "            if best_main is not None:\n",
        "                new_clusters[best_main['id']].append(country)\n",
        "\n",
        "        # Perbarui negara utama\n",
        "        for main_id, cluster in new_clusters.items():\n",
        "            # Negara utama baru: negara dengan kekuatan rata-rata maksimum\n",
        "            new_main = max(cluster, key=lambda x: x['power'])\n",
        "            main_countries = [c for c in main_countries if c['id'] != main_id]\n",
        "            main_countries.append(new_main)\n",
        "\n",
        "        # Periksa stabilitas\n",
        "        if clusters == new_clusters:\n",
        "            break\n",
        "        clusters = new_clusters\n",
        "\n",
        "    return clusters\n",
        "\n",
        "# Contoh Data Negara\n",
        "countries = [\n",
        "    {'id': 1, 'position': np.array([1, 2]), 'power': 5},\n",
        "    {'id': 2, 'position': np.array([2, 3]), 'power': 4},\n",
        "    {'id': 3, 'position': np.array([3, 1]), 'power': 6},\n",
        "    {'id': 4, 'position': np.array([6, 7]), 'power': 8},\n",
        "    {'id': 5, 'position': np.array([7, 8]), 'power': 7},\n",
        "]\n",
        "\n",
        "# Jalankan Algoritma\n",
        "clusters = iterative_clustering(countries, K=2)\n",
        "print(\"Hasil Clustering Iteratif:\")\n",
        "for main_id, cluster in clusters.items():\n",
        "    print(f\"Cluster {main_id}: {[c['id'] for c in cluster]}\")"
      ]
    },
    {
      "cell_type": "code",
      "source": [
        "import numpy as np\n",
        "import random\n",
        "\n",
        "# Fungsi untuk menghitung nilai benefit antara dua negara\n",
        "def benefit_function(policy_1, policy_2):\n",
        "    distance = np.linalg.norm(policy_1['position'] - policy_2['position'])\n",
        "    power_diff = abs(policy_1['power'] - policy_2['power'])\n",
        "    return -distance + 0.5 * power_diff\n",
        "\n",
        "# Algoritma Iteratif\n",
        "def iterative_clustering(countries, K, max_iters=100, threshold=0.5):\n",
        "    main_countries = random.sample(countries, K)\n",
        "    clusters = {m['id']: [m] for m in main_countries}\n",
        "    reasons = {m['id']: [] for m in main_countries}\n",
        "\n",
        "    for iteration in range(max_iters):\n",
        "        new_clusters = {m['id']: [m] for m in main_countries}\n",
        "        new_reasons = {m['id']: [] for m in main_countries}\n",
        "\n",
        "        for country in countries:\n",
        "            if country in main_countries:\n",
        "                continue\n",
        "\n",
        "            best_main = None\n",
        "            best_benefit = -np.inf\n",
        "\n",
        "            for main in main_countries:\n",
        "                benefit = benefit_function(country, main)\n",
        "                if benefit > threshold and benefit > best_benefit:\n",
        "                    best_main = main\n",
        "                    best_benefit = benefit\n",
        "\n",
        "            if best_main is not None:\n",
        "                new_clusters[best_main['id']].append(country)\n",
        "                new_reasons[best_main['id']].append({\n",
        "                    'country_id': country['id'],\n",
        "                    'reason': f\"Benefit = {best_benefit:.2f}\"\n",
        "                })\n",
        "\n",
        "        for main_id, cluster in new_clusters.items():\n",
        "            new_main = max(cluster, key=lambda x: x['power'])\n",
        "            main_countries = [c for c in main_countries if c['id'] != main_id]\n",
        "            main_countries.append(new_main)\n",
        "\n",
        "        if clusters == new_clusters:\n",
        "            break\n",
        "        clusters = new_clusters\n",
        "        reasons = new_reasons\n",
        "\n",
        "    return clusters, reasons\n",
        "\n",
        "# Contoh Data Negara\n",
        "countries = [\n",
        "    {'id': 1, 'position': np.array([1, 2]), 'power': 5},\n",
        "    {'id': 2, 'position': np.array([2, 3]), 'power': 4},\n",
        "    {'id': 3, 'position': np.array([3, 1]), 'power': 6},\n",
        "    {'id': 4, 'position': np.array([6, 7]), 'power': 8},\n",
        "    {'id': 5, 'position': np.array([7, 8]), 'power': 7},\n",
        "]\n",
        "\n",
        "# Jalankan Algoritma\n",
        "clusters, reasons = iterative_clustering(countries, K=2)\n",
        "print(\"Hasil Clustering Iteratif:\")\n",
        "for main_id, cluster in clusters.items():\n",
        "    print(f\"\\nCluster {main_id}: {[c['id'] for c in cluster]}\")\n",
        "    for reason in reasons[main_id]:\n",
        "        print(f\"  - Negara {reason['country_id']} bergabung karena: {reason['reason']}\")"
      ],
      "metadata": {
        "colab": {
          "base_uri": "https://localhost:8080/"
        },
        "id": "O93Ods1sJcbp",
        "outputId": "5afb1c8a-997c-4cf5-fd39-89eb770b5979"
      },
      "execution_count": 5,
      "outputs": [
        {
          "output_type": "stream",
          "name": "stdout",
          "text": [
            "Hasil Clustering Iteratif:\n",
            "\n",
            "Cluster 2: [2]\n",
            "\n",
            "Cluster 3: [3]\n"
          ]
        }
      ]
    }
  ]
}