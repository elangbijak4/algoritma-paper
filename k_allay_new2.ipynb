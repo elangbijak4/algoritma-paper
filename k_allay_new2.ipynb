{
  "nbformat": 4,
  "nbformat_minor": 0,
  "metadata": {
    "colab": {
      "provenance": [],
      "authorship_tag": "ABX9TyMtOA9dYRXFrJDrvhEHgWES",
      "include_colab_link": true
    },
    "kernelspec": {
      "name": "python3",
      "display_name": "Python 3"
    },
    "language_info": {
      "name": "python"
    }
  },
  "cells": [
    {
      "cell_type": "markdown",
      "metadata": {
        "id": "view-in-github",
        "colab_type": "text"
      },
      "source": [
        "<a href=\"https://colab.research.google.com/github/elangbijak4/algoritma-dinda-new/blob/main/k_allay_new2.ipynb\" target=\"_parent\"><img src=\"https://colab.research.google.com/assets/colab-badge.svg\" alt=\"Open In Colab\"/></a>"
      ]
    },
    {
      "cell_type": "code",
      "execution_count": 1,
      "metadata": {
        "colab": {
          "base_uri": "https://localhost:8080/"
        },
        "id": "ZRPSrESVIR_t",
        "outputId": "d8918332-189f-4839-960a-c12e1eb4ff71"
      },
      "outputs": [
        {
          "output_type": "stream",
          "name": "stdout",
          "text": [
            "Hasil Clustering Optimasi Berbasis Pasangan:\n",
            "Cluster: [1, 2, 3]\n",
            "Cluster: [4, 5]\n"
          ]
        }
      ],
      "source": [
        "import numpy as np\n",
        "import networkx as nx\n",
        "\n",
        "# Fungsi untuk menghitung nilai benefit antara dua negara\n",
        "def benefit_function(policy_1, policy_2):\n",
        "    # Contoh fungsi: kombinasi jarak dan kekuatan\n",
        "    distance = np.linalg.norm(policy_1['position'] - policy_2['position'])\n",
        "    power_diff = abs(policy_1['power'] - policy_2['power'])\n",
        "    return -distance + 0.5 * power_diff\n",
        "\n",
        "# Algoritma Optimasi Berbasis Pasangan\n",
        "def pairwise_optimization(countries, K, threshold=0.5):\n",
        "    N = len(countries)\n",
        "    G = nx.Graph()\n",
        "    G.add_nodes_from([c['id'] for c in countries])\n",
        "\n",
        "    # Buat matriks benefit dan bangun graf\n",
        "    for i, country_1 in enumerate(countries):\n",
        "        for j, country_2 in enumerate(countries):\n",
        "            if i >= j:\n",
        "                continue\n",
        "            benefit_1 = benefit_function(country_1, country_2)\n",
        "            benefit_2 = benefit_function(country_2, country_1)\n",
        "            if benefit_1 + benefit_2 > threshold:\n",
        "                G.add_edge(country_1['id'], country_2['id'])\n",
        "\n",
        "    # Temukan komponen terhubung sebagai cluster awal\n",
        "    initial_clusters = list(nx.connected_components(G))\n",
        "\n",
        "    # Jika cluster terlalu banyak atau terlalu sedikit, optimasi\n",
        "    while len(initial_clusters) > K:\n",
        "        # Gabungkan dua cluster dengan nilai rata-rata minimum\n",
        "        distances = []\n",
        "        for i, c1 in enumerate(initial_clusters):\n",
        "            for j, c2 in enumerate(initial_clusters):\n",
        "                if i >= j:\n",
        "                    continue\n",
        "                avg_benefit = np.mean([\n",
        "                    benefit_function(countries[n1 - 1], countries[n2 - 1])\n",
        "                    for n1 in c1 for n2 in c2\n",
        "                ])\n",
        "                distances.append((avg_benefit, i, j))\n",
        "\n",
        "        # Gabung dua cluster dengan nilai benefit tertinggi\n",
        "        _, i, j = max(distances)\n",
        "        initial_clusters[i].update(initial_clusters[j])\n",
        "        del initial_clusters[j]\n",
        "\n",
        "    while len(initial_clusters) < K:\n",
        "        # Tambahkan negara baru ke cluster terkuat\n",
        "        unclustered = set(G.nodes) - set.union(*initial_clusters)\n",
        "        if not unclustered:\n",
        "            break\n",
        "        for cluster in initial_clusters:\n",
        "            avg_benefit = np.mean([\n",
        "                benefit_function(countries[n1 - 1], countries[n2 - 1])\n",
        "                for n1 in cluster for n2 in unclustered\n",
        "            ])\n",
        "            selected = max(unclustered, key=lambda n: avg_benefit)\n",
        "            cluster.add(selected)\n",
        "            unclustered.remove(selected)\n",
        "\n",
        "    return initial_clusters\n",
        "\n",
        "# Contoh Data Negara\n",
        "countries = [\n",
        "    {'id': 1, 'position': np.array([1, 2]), 'power': 5},\n",
        "    {'id': 2, 'position': np.array([2, 3]), 'power': 4},\n",
        "    {'id': 3, 'position': np.array([3, 1]), 'power': 6},\n",
        "    {'id': 4, 'position': np.array([6, 7]), 'power': 8},\n",
        "    {'id': 5, 'position': np.array([7, 8]), 'power': 7},\n",
        "]\n",
        "\n",
        "# Jalankan Algoritma\n",
        "clusters = pairwise_optimization(countries, K=2)\n",
        "print(\"Hasil Clustering Optimasi Berbasis Pasangan:\")\n",
        "for cluster in clusters:\n",
        "    print(f\"Cluster: {list(cluster)}\")"
      ]
    },
    {
      "cell_type": "code",
      "source": [
        "import numpy as np\n",
        "import networkx as nx\n",
        "\n",
        "# Fungsi untuk menghitung nilai benefit antara dua negara\n",
        "def benefit_function(policy_1, policy_2):\n",
        "    distance = np.linalg.norm(policy_1['position'] - policy_2['position'])\n",
        "    power_diff = abs(policy_1['power'] - policy_2['power'])\n",
        "    return -distance + 0.5 * power_diff\n",
        "\n",
        "# Algoritma Optimasi Berbasis Pasangan\n",
        "def pairwise_optimization(countries, K, threshold=0.5):\n",
        "    N = len(countries)\n",
        "    G = nx.Graph()\n",
        "    G.add_nodes_from([c['id'] for c in countries])\n",
        "    reasons = []\n",
        "\n",
        "    # Buat matriks benefit dan bangun graf\n",
        "    for i, country_1 in enumerate(countries):\n",
        "        for j, country_2 in enumerate(countries):\n",
        "            if i >= j:\n",
        "                continue\n",
        "            benefit_1 = benefit_function(country_1, country_2)\n",
        "            benefit_2 = benefit_function(country_2, country_1)\n",
        "            if benefit_1 + benefit_2 > threshold:\n",
        "                G.add_edge(country_1['id'], country_2['id'])\n",
        "                reasons.append({\n",
        "                    'from': country_1['id'],\n",
        "                    'to': country_2['id'],\n",
        "                    'reason': f\"Mutual Benefit = {benefit_1 + benefit_2:.2f}\"\n",
        "                })\n",
        "\n",
        "    # Temukan komponen terhubung sebagai cluster awal\n",
        "    initial_clusters = list(nx.connected_components(G))\n",
        "\n",
        "    # Optimasi jika jumlah cluster tidak sesuai\n",
        "    while len(initial_clusters) > K:\n",
        "        distances = []\n",
        "        for i, c1 in enumerate(initial_clusters):\n",
        "            for j, c2 in enumerate(initial_clusters):\n",
        "                if i >= j:\n",
        "                    continue\n",
        "                avg_benefit = np.mean([\n",
        "                    benefit_function(countries[n1 - 1], countries[n2 - 1])\n",
        "                    for n1 in c1 for n2 in c2\n",
        "                ])\n",
        "                distances.append((avg_benefit, i, j))\n",
        "        _, i, j = max(distances)\n",
        "        initial_clusters[i].update(initial_clusters[j])\n",
        "        del initial_clusters[j]\n",
        "\n",
        "    return initial_clusters, reasons\n",
        "\n",
        "# Contoh Data Negara\n",
        "countries = [\n",
        "    {'id': 1, 'position': np.array([1, 2]), 'power': 5},\n",
        "    {'id': 2, 'position': np.array([2, 3]), 'power': 4},\n",
        "    {'id': 3, 'position': np.array([3, 1]), 'power': 6},\n",
        "    {'id': 4, 'position': np.array([6, 7]), 'power': 8},\n",
        "    {'id': 5, 'position': np.array([7, 8]), 'power': 7},\n",
        "]\n",
        "\n",
        "# Jalankan Algoritma\n",
        "clusters, reasons = pairwise_optimization(countries, K=2)\n",
        "print(\"\\nHasil Clustering Optimasi Berbasis Pasangan:\")\n",
        "for cluster in clusters:\n",
        "    print(f\"\\nCluster: {list(cluster)}\")\n",
        "for reason in reasons:\n",
        "    print(f\"Negara {reason['from']} dan {reason['to']} menjadi sekutu karena: {reason['reason']}\")"
      ],
      "metadata": {
        "colab": {
          "base_uri": "https://localhost:8080/"
        },
        "id": "mzZxkfReJm1f",
        "outputId": "4304294d-5d75-40e3-8a14-793c8fd0bf1a"
      },
      "execution_count": 2,
      "outputs": [
        {
          "output_type": "stream",
          "name": "stdout",
          "text": [
            "\n",
            "Hasil Clustering Optimasi Berbasis Pasangan:\n",
            "\n",
            "Cluster: [1, 2, 3]\n",
            "\n",
            "Cluster: [4, 5]\n"
          ]
        }
      ]
    }
  ]
}