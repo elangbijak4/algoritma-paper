{
  "nbformat": 4,
  "nbformat_minor": 0,
  "metadata": {
    "colab": {
      "provenance": [],
      "authorship_tag": "ABX9TyPX+yZ6iG0sCA/Zm/2UJNlq",
      "include_colab_link": true
    },
    "kernelspec": {
      "name": "python3",
      "display_name": "Python 3"
    },
    "language_info": {
      "name": "python"
    }
  },
  "cells": [
    {
      "cell_type": "markdown",
      "metadata": {
        "id": "view-in-github",
        "colab_type": "text"
      },
      "source": [
        "<a href=\"https://colab.research.google.com/github/elangbijak4/algoritma-dinda-new/blob/main/k_allay_new2_2.ipynb\" target=\"_parent\"><img src=\"https://colab.research.google.com/assets/colab-badge.svg\" alt=\"Open In Colab\"/></a>"
      ]
    },
    {
      "cell_type": "code",
      "source": [
        "import numpy as np\n",
        "import networkx as nx\n",
        "\n",
        "# Fungsi untuk menghitung nilai benefit antara dua negara\n",
        "def benefit_function(policy_1, policy_2):\n",
        "    distance = np.linalg.norm(policy_1['position'] - policy_2['position'])\n",
        "    power_diff = abs(policy_1['power'] - policy_2['power'])\n",
        "    benefit = -distance + 0.5 * power_diff\n",
        "    return benefit, distance, power_diff\n",
        "\n",
        "# Algoritma Optimasi Berbasis Pasangan\n",
        "def pairwise_optimization(countries, K, threshold=0.5):\n",
        "    N = len(countries)\n",
        "    G = nx.Graph()\n",
        "    G.add_nodes_from([c['id'] for c in countries])\n",
        "    reasons = {}\n",
        "\n",
        "    # Bangun graf dengan nilai benefit\n",
        "    for i, country_1 in enumerate(countries):\n",
        "        for j, country_2 in enumerate(countries):\n",
        "            if i >= j:\n",
        "                continue\n",
        "            benefit, distance, power_diff = benefit_function(country_1, country_2)\n",
        "            if benefit > threshold:\n",
        "                G.add_edge(country_1['id'], country_2['id'])\n",
        "                reasons[(country_1['id'], country_2['id'])] = {\n",
        "                    'benefit': benefit,\n",
        "                    'distance': distance,\n",
        "                    'power_diff': power_diff\n",
        "                }\n",
        "\n",
        "    # Temukan komponen terhubung sebagai cluster awal\n",
        "    initial_clusters = list(nx.connected_components(G))\n",
        "\n",
        "    # Optimasi jika jumlah cluster tidak sesuai\n",
        "    while len(initial_clusters) > K:\n",
        "        distances = []\n",
        "        for i, c1 in enumerate(initial_clusters):\n",
        "            for j, c2 in enumerate(initial_clusters):\n",
        "                if i >= j:\n",
        "                    continue\n",
        "                avg_benefit = np.mean([\n",
        "                    benefit_function(countries[n1 - 1], countries[n2 - 1])[0]\n",
        "                    for n1 in c1 for n2 in c2\n",
        "                ])\n",
        "                distances.append((avg_benefit, i, j))\n",
        "        _, i, j = max(distances)\n",
        "        initial_clusters[i].update(initial_clusters[j])\n",
        "        del initial_clusters[j]\n",
        "\n",
        "    return initial_clusters, reasons\n",
        "\n",
        "# Data negara (contoh)\n",
        "countries = [\n",
        "    {'id': 1, 'position': np.array([1, 2]), 'power': 5},\n",
        "    {'id': 2, 'position': np.array([2, 3]), 'power': 4},\n",
        "    {'id': 3, 'position': np.array([3, 1]), 'power': 6},\n",
        "    {'id': 4, 'position': np.array([6, 7]), 'power': 8},\n",
        "    {'id': 5, 'position': np.array([7, 8]), 'power': 7},\n",
        "]\n",
        "\n",
        "# Jalankan Algoritma\n",
        "clusters, reasons = pairwise_optimization(countries, K=2)\n",
        "\n",
        "# Cetak Hasil\n",
        "print(\"\\nHasil Clustering Optimasi Pasangan (Diperbaiki):\")\n",
        "for cluster in clusters:\n",
        "    print(f\"\\nCluster: {list(cluster)}\")\n",
        "    for (id1, id2), detail in reasons.items():\n",
        "        if id1 in cluster and id2 in cluster:\n",
        "            print(f\"  - Negara {id1} dan {id2} sekutu karena:\")\n",
        "            print(f\"    Benefit: {detail['benefit']:.2f}, Distance: {detail['distance']:.2f}, Power Difference: {detail['power_diff']:.2f}\")"
      ],
      "metadata": {
        "colab": {
          "base_uri": "https://localhost:8080/"
        },
        "id": "4uNjNONYwKbL",
        "outputId": "ea3f3aaf-4133-40e1-cfee-d5e136c42f6b"
      },
      "execution_count": 1,
      "outputs": [
        {
          "output_type": "stream",
          "name": "stdout",
          "text": [
            "\n",
            "Hasil Clustering Optimasi Pasangan (Diperbaiki):\n",
            "\n",
            "Cluster: [1, 2, 3]\n",
            "\n",
            "Cluster: [4, 5]\n"
          ]
        }
      ]
    }
  ]
}